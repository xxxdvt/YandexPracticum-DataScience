{
  "nbformat": 4,
  "nbformat_minor": 0,
  "metadata": {
    "colab": {
      "provenance": [],
      "include_colab_link": true
    },
    "kernelspec": {
      "name": "python3",
      "display_name": "Python 3"
    },
    "language_info": {
      "name": "python"
    }
  },
  "cells": [
    {
      "cell_type": "markdown",
      "metadata": {
        "id": "view-in-github",
        "colab_type": "text"
      },
      "source": [
        "<a href=\"https://colab.research.google.com/github/xxxdvt/YandexPracticum-DataScience/blob/main/%D0%A4%D1%83%D0%BD%D0%BA%D1%86%D0%B8%D0%B8_%D0%B8_%D0%BC%D0%BE%D0%B4%D1%83%D0%BB%D0%B8_%7C_%D0%94%D0%97_Pro_%7C_%D0%A3%D0%98%D0%98.ipynb\" target=\"_parent\"><img src=\"https://colab.research.google.com/assets/colab-badge.svg\" alt=\"Open In Colab\"/></a>"
      ]
    },
    {
      "cell_type": "markdown",
      "source": [
        "### Задание 1\n",
        "\n",
        "---\n",
        "\n"
      ],
      "metadata": {
        "id": "RA2LGPZDdIhT"
      }
    },
    {
      "cell_type": "markdown",
      "metadata": {
        "id": "Sm1s8gu1hjSc"
      },
      "source": [
        "Напишите программу компьютерной игры \"Угадай число\", в которой компьютер генерирует случайное целое число от 1 до 15, а пользователь должен его угадать.\n",
        "\n",
        "После каждой неудачной попытки пользователя, программа должна сообщать ему о том, больше это число, или меньше загаданного, а в случае угадывания - поздравлять с выигрышем.\n",
        "\n",
        "\n"
      ]
    },
    {
      "cell_type": "code",
      "metadata": {
        "id": "ehgUuZYYKpHK"
      },
      "source": [
        "# ваше решение"
      ],
      "execution_count": null,
      "outputs": []
    },
    {
      "cell_type": "markdown",
      "source": [
        "### Задание 2\n",
        "\n",
        "---\n",
        "\n"
      ],
      "metadata": {
        "id": "nsCdBeJgILRY"
      }
    },
    {
      "cell_type": "markdown",
      "source": [
        "Создайте в директории `/content` папку `my_folder` и запишите в ней 10 файлов."
      ],
      "metadata": {
        "id": "8o2RoZorXg11"
      }
    },
    {
      "cell_type": "code",
      "source": [
        "os.chdir('/content')"
      ],
      "metadata": {
        "id": "9nvA6Lx_XkAi"
      },
      "execution_count": null,
      "outputs": []
    },
    {
      "cell_type": "code",
      "source": [
        "# Решение\n",
        "os.mkdir('my_folder')\n",
        "print('Папка my_folder создана в текущей директории.')\n",
        "os.chdir('my_folder')\n",
        "for i in range(10):\n",
        "  f = open(f'file_{i+1}.txt', 'w')\n",
        "  print(f'Файл file_{i+1}.txt создан и записан.')\n",
        "os.chdir('content')\n",
        "print('Вернулись в исходную директорию.')\n",
        "\n",
        "\n",
        "\n"
      ],
      "metadata": {
        "colab": {
          "base_uri": "https://localhost:8080/"
        },
        "id": "1ravxr9ZWxsZ",
        "outputId": "cde46cf6-35ea-4364-ad41-d17735b9ca98"
      },
      "execution_count": null,
      "outputs": [
        {
          "output_type": "stream",
          "name": "stdout",
          "text": [
            "Папка my_folder создана в текущей директории.\n",
            "Файл file_1.txt создан и записан.\n",
            "Файл file_2.txt создан и записан.\n",
            "Файл file_3.txt создан и записан.\n",
            "Файл file_4.txt создан и записан.\n",
            "Файл file_5.txt создан и записан.\n",
            "Файл file_6.txt создан и записан.\n",
            "Файл file_7.txt создан и записан.\n",
            "Файл file_8.txt создан и записан.\n",
            "Файл file_9.txt создан и записан.\n",
            "Файл file_10.txt создан и записан.\n",
            "Вернулись в исходную директорию.\n"
          ]
        }
      ]
    },
    {
      "cell_type": "markdown",
      "source": [
        "### Задание 3\n",
        "\n",
        "---\n",
        "\n"
      ],
      "metadata": {
        "id": "4IYJNxu1kDyg"
      }
    },
    {
      "cell_type": "markdown",
      "source": [
        "Создайте код, который применяет функцию map к списку слов и использует анонимную функцию lambda для инвертирования порядка букв в каждом слове.\n",
        "\n",
        "Пример:\n",
        "\n",
        "```\n",
        "было -> ['дом', 'квартира', 'поместье']\n",
        "стало -> ['мод', 'аритравк', 'еьтсемоп']\n",
        "```"
      ],
      "metadata": {
        "id": "4QQNEhwRpWQW"
      }
    },
    {
      "cell_type": "code",
      "source": [
        "# Решение\n",
        "\n",
        "\n",
        "\n",
        "\n"
      ],
      "metadata": {
        "id": "rk98erqe2THv"
      },
      "execution_count": null,
      "outputs": []
    },
    {
      "cell_type": "markdown",
      "source": [
        "### Задание 4\n",
        "\n",
        "---\n",
        "\n"
      ],
      "metadata": {
        "id": "uK7fDqx9qlhd"
      }
    },
    {
      "cell_type": "markdown",
      "source": [
        "Напишите программу, которая рассчитывает расход бензина и стоимость поездки на автомобиле в зависимости от пройденного расстояния и типа дороги. Программа должна принимать на вход два аргумента: distance - расстояние в километрах и city - флаг, указывающий на тип дороги (0 - трасса, 1 - город). Программа должна использовать следующие данные:\n",
        "\n",
        "Расход бензина на трассе: 5.5 литров на 100 км\n",
        "Расход бензина в городе: 8 литров на 100 км\n",
        "Цена бензина: 53 рубля за литр\n",
        "Программа должна выводить на экран количество потраченного бензина в литрах и стоимость поездки в рублях, округляя значения до одного и двух знаков после запятой соответственно. Программа должна использовать функцию car(), которая реализует логику расчетов и вывода результатов."
      ],
      "metadata": {
        "id": "CH4ZWB_irPVW"
      }
    },
    {
      "cell_type": "markdown",
      "source": [
        "> Чтобы посчитать кол-во потраченных литров нужно: `дистанция/100*расход_бензина`"
      ],
      "metadata": {
        "id": "ZLmhgXjjN4ZA"
      }
    },
    {
      "cell_type": "markdown",
      "source": [
        "```\n",
        "# вызываем функцию car() с аргументами 7 км и 1 (город)\n",
        "car(7, 1) # 7 км 1 в городе\n",
        "\n",
        "```\n",
        "\n",
        "Результат:\n",
        "```\n",
        "**************************************************\n",
        "Вы потратили 29.68 руб.\n",
        "Потратили 0.56 литр.\n",
        "**************************************************\n",
        "```"
      ],
      "metadata": {
        "id": "I6OBkjZXRt2T"
      }
    },
    {
      "cell_type": "code",
      "source": [
        "# Решение\n",
        "\n",
        "\n",
        "\n",
        "\n"
      ],
      "metadata": {
        "id": "Xund2inh2U7_"
      },
      "execution_count": null,
      "outputs": []
    },
    {
      "cell_type": "markdown",
      "source": [
        "### Задача 5\n",
        "\n",
        "---\n",
        "\n"
      ],
      "metadata": {
        "id": "uBBep0yvsLyy"
      }
    },
    {
      "cell_type": "markdown",
      "source": [
        "Вы получили текстовый файл data.txt, в котором содержатся данные о студентах. Каждая строка файла представляет собой запись о студенте следующего формата:\n",
        "\n",
        "`Имя Фамилия, Группа: XXX, Средний балл: X.XX`"
      ],
      "metadata": {
        "id": "wXngA91AZW2-"
      }
    },
    {
      "cell_type": "code",
      "source": [
        "text = '''\n",
        "Имя: Иван, Группа: A123, Средний балл: 4.75\n",
        "Имя: Петр, Группа: B456, Средний балл: 3.92\n",
        "Имя: Елена, Группа: A123, Средний балл: 4.89\n",
        "Имя: Анна, Группа: C789, Средний балл: 4.12\n",
        "Имя: Михаил, Группа: B456, Средний балл: 5.01\n",
        "Имя: Алиса, Группа: A123, Средний балл: 4.98\n",
        "'''.strip()\n",
        "\n",
        "with open('data.txt', 'w') as f:\n",
        "  f.write(text)"
      ],
      "metadata": {
        "id": "kdjJN58lZHsH"
      },
      "execution_count": null,
      "outputs": []
    },
    {
      "cell_type": "markdown",
      "source": [
        "Вам нужно написать Python-скрипт, который будет выполнять следующие действия:\n",
        "\n",
        "* Открывать файл data.txt для чтения.\n",
        "\n",
        "С использованием регулярных выражений находить все записи о студентах и извлекать из них следующую информацию:\n",
        "\n",
        "* Имя студента.\n",
        "* Номер группы.\n",
        "* Средний балл студента.\n",
        "* Сохранять извлеченную информацию в виде списка словарей, где каждый словарь представляет одного студента с ключами \"Имя\", \"Группа\" и \"Средний балл\".\n",
        "\n",
        "После обработки всего файла, вывести на экран информацию о студентах, например, вывести список студентов и их средних баллов."
      ],
      "metadata": {
        "id": "apNUy1yBZeZs"
      }
    },
    {
      "cell_type": "markdown",
      "source": [
        "Пример:\n",
        "![image.png](data:image/png;base64,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)"
      ],
      "metadata": {
        "id": "bZv1g6Faahcu"
      }
    },
    {
      "cell_type": "code",
      "source": [
        "# Решение\n",
        "import re\n",
        "\n",
        "re.findall(r'Имя: \\w+', text)\n",
        "\n",
        "\n"
      ],
      "metadata": {
        "id": "plsN3kujZh6I",
        "colab": {
          "base_uri": "https://localhost:8080/"
        },
        "outputId": "611ddded-a580-4854-eb86-8910e96d2b0e"
      },
      "execution_count": null,
      "outputs": [
        {
          "output_type": "execute_result",
          "data": {
            "text/plain": [
              "['Имя: Иван',\n",
              " 'Имя: Петр',\n",
              " 'Имя: Елена',\n",
              " 'Имя: Анна',\n",
              " 'Имя: Михаил',\n",
              " 'Имя: Алиса']"
            ]
          },
          "metadata": {},
          "execution_count": 4
        }
      ]
    },
    {
      "cell_type": "code",
      "source": [
        "text = '''\n",
        "Имя: Иван, Группа: A123, Средний балл: 4.75\n",
        "Имя: Петр, Группа: B456, Средний балл: 3.92\n",
        "Имя: Елена, Группа: A123, Средний балл: 4.89\n",
        "Имя: Анна, Группа: C789, Средний балл: 4.12\n",
        "Имя: Михаил, Группа: B456, Средний балл: 5.01\n",
        "Имя: Алиса, Группа: A123, Средний балл: 4.98\n",
        "'''.strip()\n",
        "\n",
        "re.findall(r'Имя: \\w+', text)"
      ],
      "metadata": {
        "id": "KcJLJnOnGuhx",
        "outputId": "6fa941b8-104b-4ebe-84f9-935aaa6ae48e",
        "colab": {
          "base_uri": "https://localhost:8080/"
        }
      },
      "execution_count": null,
      "outputs": [
        {
          "output_type": "execute_result",
          "data": {
            "text/plain": [
              "['Имя: Иван',\n",
              " 'Имя: Петр',\n",
              " 'Имя: Елена',\n",
              " 'Имя: Анна',\n",
              " 'Имя: Михаил',\n",
              " 'Имя: Алиса']"
            ]
          },
          "metadata": {},
          "execution_count": 5
        }
      ]
    }
  ]
}